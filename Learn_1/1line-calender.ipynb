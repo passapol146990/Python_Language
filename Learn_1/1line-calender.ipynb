{
 "cells": [
  {
   "cell_type": "code",
   "execution_count": 1,
   "metadata": {},
   "outputs": [],
   "source": [
    "import calendar"
   ]
  },
  {
   "cell_type": "code",
   "execution_count": 2,
   "metadata": {},
   "outputs": [
    {
     "data": {
      "text/plain": [
       "'   February 2023\\nMo Tu We Th Fr Sa Su\\n       1  2  3  4  5\\n 6  7  8  9 10 11 12\\n13 14 15 16 17 18 19\\n20 21 22 23 24 25 26\\n27 28\\n'"
      ]
     },
     "execution_count": 2,
     "metadata": {},
     "output_type": "execute_result"
    }
   ],
   "source": [
    "calendar.month(2023,2)"
   ]
  }
 ],
 "metadata": {
  "kernelspec": {
   "display_name": "venv",
   "language": "python",
   "name": "python3"
  },
  "language_info": {
   "codemirror_mode": {
    "name": "ipython",
    "version": 3
   },
   "file_extension": ".py",
   "mimetype": "text/x-python",
   "name": "python",
   "nbconvert_exporter": "python",
   "pygments_lexer": "ipython3",
   "version": "3.10.6"
  },
  "orig_nbformat": 4,
  "vscode": {
   "interpreter": {
    "hash": "d3fad9b8ce2e03554fae840ff9a8527e6c82bc69a25f38aac4aa00f3a844ec47"
   }
  }
 },
 "nbformat": 4,
 "nbformat_minor": 2
}
