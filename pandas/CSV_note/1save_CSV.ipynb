{
 "cells": [
  {
   "cell_type": "code",
   "execution_count": 1,
   "metadata": {},
   "outputs": [],
   "source": [
    "import pandas as pd\n",
    "\n",
    "name = ['phol','saf','boy']\n",
    "item = ['home','game','sword']\n",
    "price = [200,100,150]\n",
    "\n",
    "name_s = pd.Series(name)\n",
    "item_s = pd.Series(item)\n",
    "price_s = pd.Series(price)\n",
    "#Series to DataFrame\n",
    "frame = {'name':name_s,'item':item_s,'price':price_s}\n",
    "df = pd.DataFrame(frame)"
   ]
  },
  {
   "cell_type": "code",
   "execution_count": 3,
   "metadata": {},
   "outputs": [],
   "source": [
    "df\n",
    "#มี index\n",
    "df.to_csv('CVS_save.csv',header=True,index=True)\n",
    "\n",
    "#ไม่มี index\n",
    "df.to_csv('CVS_save2.csv',header=True,index=False)\n",
    "\n",
    "#ไม่มีหัวคาราง\n",
    "df.to_csv('CVS_save3.csv',header=False,index=True)\n",
    "\n",
    "#ไม่มีหัว ไม่มีคาราง\n",
    "df.to_csv('CVS_save4.csv',header=False,index=False)"
   ]
  },
  {
   "cell_type": "code",
   "execution_count": 4,
   "metadata": {},
   "outputs": [
    {
     "data": {
      "text/html": [
       "<div>\n",
       "<style scoped>\n",
       "    .dataframe tbody tr th:only-of-type {\n",
       "        vertical-align: middle;\n",
       "    }\n",
       "\n",
       "    .dataframe tbody tr th {\n",
       "        vertical-align: top;\n",
       "    }\n",
       "\n",
       "    .dataframe thead th {\n",
       "        text-align: right;\n",
       "    }\n",
       "</style>\n",
       "<table border=\"1\" class=\"dataframe\">\n",
       "  <thead>\n",
       "    <tr style=\"text-align: right;\">\n",
       "      <th></th>\n",
       "      <th>name</th>\n",
       "      <th>item</th>\n",
       "      <th>price</th>\n",
       "    </tr>\n",
       "  </thead>\n",
       "  <tbody>\n",
       "    <tr>\n",
       "      <th>0</th>\n",
       "      <td>phol</td>\n",
       "      <td>home</td>\n",
       "      <td>200</td>\n",
       "    </tr>\n",
       "    <tr>\n",
       "      <th>1</th>\n",
       "      <td>saf</td>\n",
       "      <td>game</td>\n",
       "      <td>100</td>\n",
       "    </tr>\n",
       "    <tr>\n",
       "      <th>2</th>\n",
       "      <td>boy</td>\n",
       "      <td>sword</td>\n",
       "      <td>150</td>\n",
       "    </tr>\n",
       "  </tbody>\n",
       "</table>\n",
       "</div>"
      ],
      "text/plain": [
       "   name   item  price\n",
       "0  phol   home    200\n",
       "1   saf   game    100\n",
       "2   boy  sword    150"
      ]
     },
     "execution_count": 4,
     "metadata": {},
     "output_type": "execute_result"
    }
   ],
   "source": [
    "df"
   ]
  }
 ],
 "metadata": {
  "kernelspec": {
   "display_name": "Python 3",
   "language": "python",
   "name": "python3"
  },
  "language_info": {
   "codemirror_mode": {
    "name": "ipython",
    "version": 3
   },
   "file_extension": ".py",
   "mimetype": "text/x-python",
   "name": "python",
   "nbconvert_exporter": "python",
   "pygments_lexer": "ipython3",
   "version": "3.10.6"
  },
  "orig_nbformat": 4,
  "vscode": {
   "interpreter": {
    "hash": "06ac7b453b0af326ff09f90e208ef21fa44f8707466b867cd293c1c205604471"
   }
  }
 },
 "nbformat": 4,
 "nbformat_minor": 2
}
