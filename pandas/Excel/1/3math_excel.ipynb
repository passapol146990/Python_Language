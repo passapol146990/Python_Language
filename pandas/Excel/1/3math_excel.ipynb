{
 "cells": [
  {
   "cell_type": "code",
   "execution_count": 1,
   "metadata": {},
   "outputs": [
    {
     "data": {
      "text/html": [
       "<div>\n",
       "<style scoped>\n",
       "    .dataframe tbody tr th:only-of-type {\n",
       "        vertical-align: middle;\n",
       "    }\n",
       "\n",
       "    .dataframe tbody tr th {\n",
       "        vertical-align: top;\n",
       "    }\n",
       "\n",
       "    .dataframe thead th {\n",
       "        text-align: right;\n",
       "    }\n",
       "</style>\n",
       "<table border=\"1\" class=\"dataframe\">\n",
       "  <thead>\n",
       "    <tr style=\"text-align: right;\">\n",
       "      <th></th>\n",
       "      <th>Name</th>\n",
       "      <th>Score</th>\n",
       "      <th>Age</th>\n",
       "      <th>Gender</th>\n",
       "      <th>grade</th>\n",
       "    </tr>\n",
       "  </thead>\n",
       "  <tbody>\n",
       "    <tr>\n",
       "      <th>0</th>\n",
       "      <td>อาทิตย์</td>\n",
       "      <td>90</td>\n",
       "      <td>20</td>\n",
       "      <td>ชาย</td>\n",
       "      <td>A</td>\n",
       "    </tr>\n",
       "    <tr>\n",
       "      <th>1</th>\n",
       "      <td>นิตยา</td>\n",
       "      <td>75</td>\n",
       "      <td>18</td>\n",
       "      <td>หญิง</td>\n",
       "      <td>B</td>\n",
       "    </tr>\n",
       "    <tr>\n",
       "      <th>2</th>\n",
       "      <td>โจโจ้</td>\n",
       "      <td>88</td>\n",
       "      <td>22</td>\n",
       "      <td>ชาย</td>\n",
       "      <td>A</td>\n",
       "    </tr>\n",
       "    <tr>\n",
       "      <th>3</th>\n",
       "      <td>แก้มใส</td>\n",
       "      <td>65</td>\n",
       "      <td>19</td>\n",
       "      <td>หญิง</td>\n",
       "      <td>C</td>\n",
       "    </tr>\n",
       "    <tr>\n",
       "      <th>4</th>\n",
       "      <td>ตั๊กแตน</td>\n",
       "      <td>82</td>\n",
       "      <td>23</td>\n",
       "      <td>หญิง</td>\n",
       "      <td>A</td>\n",
       "    </tr>\n",
       "    <tr>\n",
       "      <th>5</th>\n",
       "      <td>เก๋ไก๋</td>\n",
       "      <td>50</td>\n",
       "      <td>20</td>\n",
       "      <td>หญฺง</td>\n",
       "      <td>D</td>\n",
       "    </tr>\n",
       "    <tr>\n",
       "      <th>6</th>\n",
       "      <td>วุฒิ</td>\n",
       "      <td>45</td>\n",
       "      <td>17</td>\n",
       "      <td>ชาย</td>\n",
       "      <td>F</td>\n",
       "    </tr>\n",
       "    <tr>\n",
       "      <th>7</th>\n",
       "      <td>ชัย</td>\n",
       "      <td>62</td>\n",
       "      <td>18</td>\n",
       "      <td>ชาย</td>\n",
       "      <td>C</td>\n",
       "    </tr>\n",
       "    <tr>\n",
       "      <th>8</th>\n",
       "      <td>ธนาวุฒิ</td>\n",
       "      <td>95</td>\n",
       "      <td>19</td>\n",
       "      <td>ชาย</td>\n",
       "      <td>A</td>\n",
       "    </tr>\n",
       "  </tbody>\n",
       "</table>\n",
       "</div>"
      ],
      "text/plain": [
       "      Name  Score  Age Gender grade\n",
       "0  อาทิตย์     90   20    ชาย     A\n",
       "1    นิตยา     75   18   หญิง     B\n",
       "2    โจโจ้     88   22    ชาย     A\n",
       "3   แก้มใส     65   19   หญิง     C\n",
       "4  ตั๊กแตน     82   23   หญิง     A\n",
       "5   เก๋ไก๋     50   20   หญฺง     D\n",
       "6     วุฒิ     45   17    ชาย     F\n",
       "7      ชัย     62   18    ชาย     C\n",
       "8  ธนาวุฒิ     95   19    ชาย     A"
      ]
     },
     "execution_count": 1,
     "metadata": {},
     "output_type": "execute_result"
    }
   ],
   "source": [
    "import pandas as pd\n",
    "df = pd.read_excel('./dataupdate.xlsx','score')\n",
    "df"
   ]
  },
  {
   "cell_type": "code",
   "execution_count": 2,
   "metadata": {},
   "outputs": [
    {
     "name": "stdout",
     "output_type": "stream",
     "text": [
      "มากสุด 95\n",
      "น้อยสุด 45\n",
      "เฉลี่ย 72.44444444444444 72.44444444444444\n",
      "ส่วนเบี่ยงเบนมาตรฐาน 17.95209675157133\n",
      "จำนวนแถว 9\n",
      "รวม 652\n",
      "Name      object\n",
      "Score      int64\n",
      "Age        int64\n",
      "Gender    object\n",
      "grade     object\n",
      "dtype: object\n",
      "Name        object\n",
      "Score        int64\n",
      "Age       category\n",
      "Gender      object\n",
      "grade       object\n",
      "dtype: object\n"
     ]
    }
   ],
   "source": [
    "# ทำงานที่คอลัม Score \n",
    "print('มากสุด',df.Score.max())\n",
    "print('น้อยสุด',df.Score.min())\n",
    "print('เฉลี่ย',df.Score.mean(),df.Score.sum()/df.Score.count())\n",
    "print('ส่วนเบี่ยงเบนมาตรฐาน',df.Score.std())\n",
    "print('จำนวนแถว',df.Score.count())\n",
    "print('รวม',df.Score.sum())\n",
    "print(df.dtypes)\n",
    "#เปลี่ยน type ของคอลัมที่ต้องการ เช่น grade, score ...\n",
    "df.Age = df.Age.astype('category')\n",
    "print(df.dtypes)"
   ]
  },
  {
   "cell_type": "code",
   "execution_count": 4,
   "metadata": {},
   "outputs": [
    {
     "name": "stderr",
     "output_type": "stream",
     "text": [
      "C:\\Users\\Passa\\AppData\\Local\\Temp\\ipykernel_4272\\1703867807.py:1: FutureWarning: Dropping of nuisance columns in DataFrame reductions (with 'numeric_only=None') is deprecated; in a future version this will raise TypeError.  Select only valid columns before calling the reduction.\n",
      "  df.sum()\n"
     ]
    },
    {
     "data": {
      "text/plain": [
       "Name      อาทิตย์นิตยาโจโจ้แก้มใสตั๊กแตนเก๋ไก๋วุฒิชัยธนา...\n",
       "Score                                                   652\n",
       "Gender                      ชายหญิงชายหญิงหญิงหญฺงชายชายชาย\n",
       "grade                                             ABACADFCA\n",
       "dtype: object"
      ]
     },
     "execution_count": 4,
     "metadata": {},
     "output_type": "execute_result"
    }
   ],
   "source": [
    "df.sum()"
   ]
  }
 ],
 "metadata": {
  "kernelspec": {
   "display_name": "Python 3",
   "language": "python",
   "name": "python3"
  },
  "language_info": {
   "codemirror_mode": {
    "name": "ipython",
    "version": 3
   },
   "file_extension": ".py",
   "mimetype": "text/x-python",
   "name": "python",
   "nbconvert_exporter": "python",
   "pygments_lexer": "ipython3",
   "version": "3.10.6"
  },
  "orig_nbformat": 4,
  "vscode": {
   "interpreter": {
    "hash": "06ac7b453b0af326ff09f90e208ef21fa44f8707466b867cd293c1c205604471"
   }
  }
 },
 "nbformat": 4,
 "nbformat_minor": 2
}
