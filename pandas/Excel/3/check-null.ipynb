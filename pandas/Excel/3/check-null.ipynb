{
 "cells": [
  {
   "cell_type": "code",
   "execution_count": 4,
   "metadata": {},
   "outputs": [],
   "source": [
    "import pandas as pd\n",
    "df = pd.read_excel('Employee.xlsx')"
   ]
  },
  {
   "attachments": {},
   "cell_type": "markdown",
   "metadata": {},
   "source": [
    "เช็คค่าว่างถ้าว่างให้ตอบ True และถ้าไม่ว่างให้ตอบ False"
   ]
  },
  {
   "cell_type": "code",
   "execution_count": 12,
   "metadata": {},
   "outputs": [
    {
     "name": "stdout",
     "output_type": "stream",
     "text": [
      "             Name         Job   Age    Salary  Bonus  Address\n",
      "0         อาทิตย์  Programmer  20.0   30000.0    0.1      NaN\n",
      "1   เกียรติศักดิ์  Programmer  18.0       NaN    0.1      NaN\n",
      "2        จักรพงษ์   Developer   NaN   32000.0    0.1      NaN\n",
      "3          สุรชัย         NaN  23.0   40000.0    0.1      NaN\n",
      "4            ทศพล        Sale  29.0   40000.0    0.1      NaN\n",
      "5          จินตนา     Manager   NaN  450000.0    0.1      NaN\n",
      "6             NaN         NaN   NaN       NaN    NaN      NaN\n",
      "7       เกษมสันต์    Maketing  34.0   60000.0    0.1      NaN\n",
      "8          ชลธิชา         NaN  26.0  100000.0    0.1      NaN\n",
      "9       เกษมสันต์    Maketing  34.0   60000.0    0.1      NaN\n",
      "10           ทศพล        Sale  29.0   40000.0    0.1      NaN\n",
      "\n",
      "\n",
      "     Name    Job    Age  Salary  Bonus  Address\n",
      "0   False  False  False   False  False     True\n",
      "1   False  False  False    True  False     True\n",
      "2   False  False   True   False  False     True\n",
      "3   False   True  False   False  False     True\n",
      "4   False  False  False   False  False     True\n",
      "5   False  False   True   False  False     True\n",
      "6    True   True   True    True   True     True\n",
      "7   False  False  False   False  False     True\n",
      "8   False   True  False   False  False     True\n",
      "9   False  False  False   False  False     True\n",
      "10  False  False  False   False  False     True\n"
     ]
    }
   ],
   "source": [
    "print(df)\n",
    "print('\\n')\n",
    "print(df.isnull())"
   ]
  },
  {
   "attachments": {},
   "cell_type": "markdown",
   "metadata": {},
   "source": [
    "เช็คว่าคอลัมไหนว่างถ้าว่างให้ True และ\n",
    "เช็คว่าคอลัมไหนว่างกี่ช่องให้ตอบจำนวนช่องว่าง"
   ]
  },
  {
   "cell_type": "code",
   "execution_count": 11,
   "metadata": {},
   "outputs": [
    {
     "name": "stdout",
     "output_type": "stream",
     "text": [
      "Name       True\n",
      "Job        True\n",
      "Age        True\n",
      "Salary     True\n",
      "Bonus      True\n",
      "Address    True\n",
      "dtype: bool\n",
      "\n",
      "\n",
      "Name        1\n",
      "Job         3\n",
      "Age         3\n",
      "Salary      2\n",
      "Bonus       1\n",
      "Address    11\n",
      "dtype: int64\n"
     ]
    }
   ],
   "source": [
    "print(df.isnull().any())\n",
    "print('\\n')\n",
    "print(df.isnull().sum())"
   ]
  },
  {
   "attachments": {},
   "cell_type": "markdown",
   "metadata": {},
   "source": [
    "ตรงข้ามกันกับอันด้านบน ถ้าอันไหนว่างให้ False"
   ]
  },
  {
   "cell_type": "code",
   "execution_count": 13,
   "metadata": {},
   "outputs": [
    {
     "name": "stdout",
     "output_type": "stream",
     "text": [
      "     Name    Job    Age  Salary  Bonus  Address\n",
      "0    True   True   True    True   True    False\n",
      "1    True   True   True   False   True    False\n",
      "2    True   True  False    True   True    False\n",
      "3    True  False   True    True   True    False\n",
      "4    True   True   True    True   True    False\n",
      "5    True   True  False    True   True    False\n",
      "6   False  False  False   False  False    False\n",
      "7    True   True   True    True   True    False\n",
      "8    True  False   True    True   True    False\n",
      "9    True   True   True    True   True    False\n",
      "10   True   True   True    True   True    False\n"
     ]
    }
   ],
   "source": [
    "print(df.notnull())"
   ]
  },
  {
   "attachments": {},
   "cell_type": "markdown",
   "metadata": {},
   "source": [
    "เช็คว่าคอลัมไหนว่างถ้าว่างให้ False และ\n",
    "เช็คว่าคอลัมไหนไม่ว่างกี่ช่องให้ตอบจำนวนช่องว่าง"
   ]
  },
  {
   "cell_type": "code",
   "execution_count": 14,
   "metadata": {},
   "outputs": [
    {
     "name": "stdout",
     "output_type": "stream",
     "text": [
      "Name        True\n",
      "Job         True\n",
      "Age         True\n",
      "Salary      True\n",
      "Bonus       True\n",
      "Address    False\n",
      "dtype: bool\n",
      "\n",
      "\n",
      "Name       10\n",
      "Job         8\n",
      "Age         8\n",
      "Salary      9\n",
      "Bonus      10\n",
      "Address     0\n",
      "dtype: int64\n"
     ]
    }
   ],
   "source": [
    "print(df.notnull().any())\n",
    "print('\\n')\n",
    "print(df.notnull().sum())"
   ]
  }
 ],
 "metadata": {
  "kernelspec": {
   "display_name": "venv",
   "language": "python",
   "name": "python3"
  },
  "language_info": {
   "codemirror_mode": {
    "name": "ipython",
    "version": 3
   },
   "file_extension": ".py",
   "mimetype": "text/x-python",
   "name": "python",
   "nbconvert_exporter": "python",
   "pygments_lexer": "ipython3",
   "version": "3.10.6"
  },
  "orig_nbformat": 4,
  "vscode": {
   "interpreter": {
    "hash": "d3fad9b8ce2e03554fae840ff9a8527e6c82bc69a25f38aac4aa00f3a844ec47"
   }
  }
 },
 "nbformat": 4,
 "nbformat_minor": 2
}
