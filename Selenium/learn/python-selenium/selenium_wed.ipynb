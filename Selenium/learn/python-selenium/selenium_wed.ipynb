{
 "cells": [
  {
   "cell_type": "code",
   "execution_count": 1,
   "id": "d4d488c3",
   "metadata": {
    "scrolled": true
   },
   "outputs": [
    {
     "name": "stdout",
     "output_type": "stream",
     "text": [
      "Collecting selenium\n",
      "  Using cached selenium-4.4.0-py3-none-any.whl (985 kB)\n",
      "Collecting trio-websocket~=0.9\n",
      "  Using cached trio_websocket-0.9.2-py3-none-any.whl (16 kB)\n",
      "Requirement already satisfied: urllib3[secure,socks]~=1.26 in c:\\users\\passa\\anaconda3\\lib\\site-packages (from selenium) (1.26.9)\n",
      "Collecting trio~=0.17\n",
      "  Using cached trio-0.21.0-py3-none-any.whl (358 kB)\n",
      "Collecting async-generator>=1.9\n",
      "  Using cached async_generator-1.10-py3-none-any.whl (18 kB)\n",
      "Requirement already satisfied: sortedcontainers in c:\\users\\passa\\anaconda3\\lib\\site-packages (from trio~=0.17->selenium) (2.4.0)\n",
      "Requirement already satisfied: sniffio in c:\\users\\passa\\anaconda3\\lib\\site-packages (from trio~=0.17->selenium) (1.2.0)\n",
      "Requirement already satisfied: attrs>=19.2.0 in c:\\users\\passa\\anaconda3\\lib\\site-packages (from trio~=0.17->selenium) (21.4.0)\n",
      "Collecting outcome\n",
      "  Using cached outcome-1.2.0-py2.py3-none-any.whl (9.7 kB)\n",
      "Requirement already satisfied: idna in c:\\users\\passa\\anaconda3\\lib\\site-packages (from trio~=0.17->selenium) (3.3)\n",
      "Requirement already satisfied: cffi>=1.14 in c:\\users\\passa\\anaconda3\\lib\\site-packages (from trio~=0.17->selenium) (1.15.0)\n",
      "Requirement already satisfied: pycparser in c:\\users\\passa\\anaconda3\\lib\\site-packages (from cffi>=1.14->trio~=0.17->selenium) (2.21)\n",
      "Collecting wsproto>=0.14\n",
      "  Using cached wsproto-1.1.0-py3-none-any.whl (24 kB)\n",
      "Requirement already satisfied: cryptography>=1.3.4 in c:\\users\\passa\\anaconda3\\lib\\site-packages (from urllib3[secure,socks]~=1.26->selenium) (3.4.8)\n",
      "Requirement already satisfied: certifi in c:\\users\\passa\\anaconda3\\lib\\site-packages (from urllib3[secure,socks]~=1.26->selenium) (2021.10.8)\n",
      "Requirement already satisfied: pyOpenSSL>=0.14 in c:\\users\\passa\\anaconda3\\lib\\site-packages (from urllib3[secure,socks]~=1.26->selenium) (21.0.0)\n",
      "Requirement already satisfied: PySocks!=1.5.7,<2.0,>=1.5.6 in c:\\users\\passa\\anaconda3\\lib\\site-packages (from urllib3[secure,socks]~=1.26->selenium) (1.7.1)\n",
      "Requirement already satisfied: six>=1.5.2 in c:\\users\\passa\\anaconda3\\lib\\site-packages (from pyOpenSSL>=0.14->urllib3[secure,socks]~=1.26->selenium) (1.16.0)\n",
      "Collecting h11<1,>=0.9.0\n",
      "  Using cached h11-0.13.0-py3-none-any.whl (58 kB)\n",
      "Installing collected packages: outcome, h11, async-generator, wsproto, trio, trio-websocket, selenium\n",
      "Successfully installed async-generator-1.10 h11-0.13.0 outcome-1.2.0 selenium-4.4.0 trio-0.21.0 trio-websocket-0.9.2 wsproto-1.1.0\n",
      "Note: you may need to restart the kernel to use updated packages.\n"
     ]
    }
   ],
   "source": [
    "pip install selenium"
   ]
  },
  {
   "cell_type": "code",
   "execution_count": 58,
   "id": "cc8a95e4",
   "metadata": {},
   "outputs": [
    {
     "name": "stdout",
     "output_type": "stream",
     "text": [
      "1\n"
     ]
    }
   ],
   "source": [
    "from selenium import webdriver\n",
    "#open chrome\n",
    "driver = webdriver.Chrome()\n",
    "#get url\n",
    "url = 'https://classic.set.or.th/mkt/sectorquotation.do?sector=SET50&language=th&country=TH'\n",
    "driver.get(url)\n",
    "#ตัวแปร แทกใน html เว็บไซด์นั้นๆ\n",
    "tagwed= driver.find_elements(\"xpath\", '//table[@class=\"table-info\"]//tbody//tr//td[@style=\"text-align: left;\"]//a')\n",
    "\n",
    "\n",
    "\n",
    "def showtext():\n",
    "    # ดึงข้อมูลแบบ text\n",
    "    for data in tagwed[8:]:\n",
    "        print(data.text)\n",
    "        \n",
    "def showlink():\n",
    "    # ดึงข้อมูบแบบ link ใน attribute\n",
    "    for data in tagwed[8:]:\n",
    "        print(data.get_attribute('href'))\n",
    "        \n",
    "def reset():\n",
    "    print(1)\n",
    "    \n",
    "reset()"
   ]
  },
  {
   "cell_type": "code",
   "execution_count": 43,
   "id": "33faff5e",
   "metadata": {},
   "outputs": [],
   "source": [
    "# เก็บข้อมูลลงในลิส\n",
    "link_wed = []"
   ]
  },
  {
   "cell_type": "code",
   "execution_count": 44,
   "id": "35e406d8",
   "metadata": {},
   "outputs": [],
   "source": [
    "# ยัดข้อมูลเข้าลิส\n",
    "for data in tagwed[8:]:\n",
    "    link_wed.append(data.get_attribute('href'))\n",
    "len(link_wed)"
   ]
  },
  {
   "cell_type": "code",
   "execution_count": 54,
   "id": "73065566",
   "metadata": {},
   "outputs": [],
   "source": [
    "# เปิดเว็บเพื่อที่จะดึงข้อมูล\n",
    "driver = webdriver.Chrome()\n",
    "#เข้าลิ้งก์\n",
    "driver.get(link_wed[0])\n",
    "\n",
    "\n",
    "# คลิ๊กเข้าแทก งบการงาน\n",
    "driver.find_elements('xpath', '//div[@class=\"row\"]//li[@role=\"tab\"]')[1].click()\n",
    "#คลิ๊กเข้าแทก สรุปงบการเงินล่าสุด\n",
    "driver.find_elements('xpath', '//div[@class=\"row\"][@style=\"margin-top: 10px; margin-bottom: 10px;\"]//div[@class=\"col-xs-12 col-md-4 text-center\"][@style=\"border-left: 1px solid #000000;\"]')[-1].click()\n",
    "#คลิ๊กเข้าแทก ดาวโหลดงบการงาน\n",
    "driver.find_elements('xpath', '//div[@class=\"col-xs-12 col-md-6\"]//table[@class=\"table table-info-wrap\"]//tbody//td')[-1].click()"
   ]
  }
 ],
 "metadata": {
  "kernelspec": {
   "display_name": "Python 3 (ipykernel)",
   "language": "python",
   "name": "python3"
  },
  "language_info": {
   "codemirror_mode": {
    "name": "ipython",
    "version": 3
   },
   "file_extension": ".py",
   "mimetype": "text/x-python",
   "name": "python",
   "nbconvert_exporter": "python",
   "pygments_lexer": "ipython3",
   "version": "3.9.12"
  }
 },
 "nbformat": 4,
 "nbformat_minor": 5
}
